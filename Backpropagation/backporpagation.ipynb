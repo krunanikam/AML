{
 "cells": [
  {
   "cell_type": "markdown",
   "metadata": {},
   "source": [
    "# Implement back propagation [Algorithm](https://github.com/ABHISHEKSUBHASHSWAMI)"
   ]
  },
  {
   "cell_type": "markdown",
   "metadata": {
    "notebookRunGroups": {
     "groupValue": "1"
    },
    "slideshow": {
     "slide_type": "notes"
    }
   },
   "source": [
    "### Mathematical Operations in Backpropagation:\n",
    "\n",
    "#### Forward Propagation:\n",
    "1. **Weighted Sum at Each Neuron:**\n",
    "z = Σ Wi * Xi + b \n",
    "Wi = weights,\n",
    "Xi = inputs,\n",
    "b = bias\n",
    "\n",
    "2. **Activation Function:**\n",
    "a = σ(z)\n",
    "a = output of the neuron,\n",
    "σ = activation function\n",
    "\n",
    "#### Backpropagation:\n",
    "1. **Output Layer Error:**\n",
    "δ_output = (y_true - y_predicted) * σ' (z_output)\n",
    "   \n",
    "2. **Hidden Layer Error:**\n",
    "δ_hidden = δ_output * W_output^T * σ' (z_hidden)\n",
    "\n",
    "3. **Weight and Bias Update:**\n",
    " ΔW = α * δ * X \n"
   ]
  },
  {
   "cell_type": "code",
   "execution_count": 16,
   "metadata": {},
   "outputs": [
    {
     "name": "stdout",
     "output_type": "stream",
     "text": [
      "Initial Prediction\n",
      "[[0.8914699 ]\n",
      " [0.91244459]\n",
      " [0.91501318]\n",
      " [0.92811301]]\n",
      "Backpropogating...\n",
      "Completed 0 epochs...\n",
      "Completed 100 epochs...\n",
      "Completed 200 epochs...\n",
      "Completed 300 epochs...\n",
      "Completed 400 epochs...\n",
      "Completed 500 epochs...\n",
      "Completed 600 epochs...\n",
      "Completed 700 epochs...\n",
      "Completed 800 epochs...\n",
      "Completed 900 epochs...\n",
      "OR Gate Output:\n",
      "[[0]\n",
      " [1]\n",
      " [1]\n",
      " [1]]\n"
     ]
    }
   ],
   "source": [
    "import numpy as np\n",
    "\n",
    "# Define the sigmoid activation function and its derivative\n",
    "def sigmoid(x):\n",
    "    return 1 / (1 + np.exp(-x))\n",
    "\n",
    "def sigmoid_derivative(x):\n",
    "    return x * (1 - x)\n",
    "\n",
    "# Set the input data \n",
    "X = np.array([[0, 0],[0, 1],[1, 0],[1, 1]])\n",
    "\n",
    "# Set the true outputs for OR GATE\n",
    "y_true = np.array([[0],[1],[1],[1]])\n",
    "\n",
    "# Initialize weights and biases randomly\n",
    "input_size = 2\n",
    "hidden_size = 4\n",
    "output_size = 1\n",
    "\n",
    "hidden_weights = np.random.uniform(size=(input_size, hidden_size))\n",
    "hidden_bias = np.random.uniform(size=(1, hidden_size))\n",
    "output_weights = np.random.uniform(size=(hidden_size, output_size))\n",
    "output_bias = np.random.uniform(size=(1, output_size))\n",
    "\n",
    "learning_rate = 0.1\n",
    "epochs = 1000\n",
    "\n",
    "# Training the network\n",
    "for epoch in range(epochs):\n",
    "    # Forward propagation\n",
    "    hidden_layer_input = np.dot(X, hidden_weights) + hidden_bias\n",
    "    hidden_layer_output = sigmoid(hidden_layer_input)\n",
    "\n",
    "    output_layer_input = np.dot(hidden_layer_output, output_weights) + output_bias\n",
    "    predicted_output = sigmoid(output_layer_input)\n",
    "    if epoch==0:\n",
    "        print(f'Initial Prediction\\n{predicted_output}\\nBackpropogating...')\n",
    "    # Backpropagation\n",
    "    output_error = y_true - predicted_output\n",
    "    output_delta = output_error * sigmoid_derivative(predicted_output)\n",
    "\n",
    "    hidden_error = output_delta.dot(output_weights.T)\n",
    "    hidden_delta = hidden_error * sigmoid_derivative(hidden_layer_output)\n",
    "\n",
    "    # Updating weights and biases\n",
    "    output_weights += learning_rate * hidden_layer_output.T.dot(output_delta)\n",
    "    output_bias += learning_rate * np.sum(output_delta, axis=0, keepdims=True)\n",
    "    hidden_weights += learning_rate * X.T.dot(hidden_delta)\n",
    "    hidden_bias += learning_rate * np.sum(hidden_delta, axis=0, keepdims=True)\n",
    "    if epoch%100==0:\n",
    "        print(f\"Completed {epoch} epochs...\")\n",
    "\n",
    "# Testing the trained network\n",
    "hidden_layer = sigmoid(np.dot(X, hidden_weights) + hidden_bias)\n",
    "output_layer = sigmoid(np.dot(hidden_layer, output_weights) + output_bias)\n",
    "rounded_output = np.round(output_layer)\n",
    "rounded_output = (output_layer > 0.5).astype(int)\n",
    "\n",
    "print(\"OR Gate Output:\")\n",
    "print(rounded_output)\n",
    "\n"
   ]
  }
 ],
 "metadata": {
  "kernelspec": {
   "display_name": "Python 3",
   "language": "python",
   "name": "python3"
  },
  "language_info": {
   "codemirror_mode": {
    "name": "ipython",
    "version": 3
   },
   "file_extension": ".py",
   "mimetype": "text/x-python",
   "name": "python",
   "nbconvert_exporter": "python",
   "pygments_lexer": "ipython3",
   "version": "3.9.9"
  }
 },
 "nbformat": 4,
 "nbformat_minor": 2
}
